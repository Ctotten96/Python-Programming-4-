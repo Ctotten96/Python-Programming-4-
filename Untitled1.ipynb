{
  "nbformat": 4,
  "nbformat_minor": 0,
  "metadata": {
    "colab": {
      "provenance": [],
      "authorship_tag": "ABX9TyMVxtnhb2cRH/wxY94UnM0r",
      "include_colab_link": true
    },
    "kernelspec": {
      "name": "python3",
      "display_name": "Python 3"
    },
    "language_info": {
      "name": "python"
    }
  },
  "cells": [
    {
      "cell_type": "markdown",
      "metadata": {
        "id": "view-in-github",
        "colab_type": "text"
      },
      "source": [
        "<a href=\"https://colab.research.google.com/github/Ctotten96/Python-Programming-4-/blob/main/Untitled1.ipynb\" target=\"_parent\"><img src=\"https://colab.research.google.com/assets/colab-badge.svg\" alt=\"Open In Colab\"/></a>"
      ]
    },
    {
      "cell_type": "code",
      "execution_count": null,
      "metadata": {
        "colab": {
          "base_uri": "https://localhost:8080/"
        },
        "id": "HgJXG1kP6TJy",
        "outputId": "c8b3b61f-a082-49da-f9b8-2bdb117a933a"
      },
      "outputs": [
        {
          "output_type": "stream",
          "name": "stdout",
          "text": [
            "Enter an integer number between 5 and 15: 5\n",
            "The elements of the arrays are:  25 34 36 21 40\n",
            "The sum is:  156\n"
          ]
        }
      ],
      "source": [
        "import random\n",
        "\n",
        "def method_1(length):\n",
        "    return [random.randint(10, 50) for _ in range(length)]\n",
        "\n",
        "def method_2(lst):\n",
        "    return sum(lst)\n",
        "\n",
        "while True:\n",
        "    user_input = int(input(\"Enter an integer number between 5 and 15: \"))\n",
        "    if 5 <= user_input <= 15:\n",
        "        break\n",
        "    else:\n",
        "        print(\"The input is out of range. Please try again.\")\n",
        "\n",
        "random_list = method_1(user_input)\n",
        "print(\"The elements of the arrays are: \", \" \".join(map(str, random_list)))\n",
        "\n",
        "sum_result = method_2(random_list)\n",
        "print(\"The sum is: \", sum_result)\n"
      ]
    }
  ]
}